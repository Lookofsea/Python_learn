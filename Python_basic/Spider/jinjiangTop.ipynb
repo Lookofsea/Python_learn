{
 "cells": [
  {
   "cell_type": "code",
   "execution_count": 7,
   "metadata": {},
   "outputs": [
    {
     "data": {
      "text/html": [
       "<div>\n",
       "<style scoped>\n",
       "    .dataframe tbody tr th:only-of-type {\n",
       "        vertical-align: middle;\n",
       "    }\n",
       "\n",
       "    .dataframe tbody tr th {\n",
       "        vertical-align: top;\n",
       "    }\n",
       "\n",
       "    .dataframe thead th {\n",
       "        text-align: right;\n",
       "    }\n",
       "</style>\n",
       "<table border=\"1\" class=\"dataframe\">\n",
       "  <thead>\n",
       "    <tr style=\"text-align: right;\">\n",
       "      <th></th>\n",
       "      <th>ID</th>\n",
       "      <th>Title</th>\n",
       "      <th>Description</th>\n",
       "      <th>Genre</th>\n",
       "      <th>Status</th>\n",
       "      <th>WordCount</th>\n",
       "      <th>Popularity</th>\n",
       "      <th>PublishTime</th>\n",
       "    </tr>\n",
       "  </thead>\n",
       "  <tbody>\n",
       "    <tr>\n",
       "      <th>0</th>\n",
       "      <td>1</td>\n",
       "      <td>萤火郁金</td>\n",
       "      <td>帮废柴纲追求白月光之后</td>\n",
       "      <td>衍生-言情-近代现代-东方衍生</td>\n",
       "      <td>连载</td>\n",
       "      <td>81251</td>\n",
       "      <td>15,706,888</td>\n",
       "      <td>2024-07-18 15:18:27</td>\n",
       "    </tr>\n",
       "    <tr>\n",
       "      <th>1</th>\n",
       "      <td>2</td>\n",
       "      <td>梨醉</td>\n",
       "      <td>贵族学院F4的发小</td>\n",
       "      <td>原创-言情-近代现代-爱情</td>\n",
       "      <td>连载</td>\n",
       "      <td>87407</td>\n",
       "      <td>12,057,730</td>\n",
       "      <td>2024-07-15 00:39:12</td>\n",
       "    </tr>\n",
       "    <tr>\n",
       "      <th>2</th>\n",
       "      <td>3</td>\n",
       "      <td>热托蒂</td>\n",
       "      <td>和hagi一起成为猫猫</td>\n",
       "      <td>衍生-言情-近代现代-东方衍生</td>\n",
       "      <td>连载</td>\n",
       "      <td>56702</td>\n",
       "      <td>9,037,107</td>\n",
       "      <td>2024-07-09 15:43:13</td>\n",
       "    </tr>\n",
       "    <tr>\n",
       "      <th>3</th>\n",
       "      <td>4</td>\n",
       "      <td>岑为</td>\n",
       "      <td>蝴蝶飞过一叶舟</td>\n",
       "      <td>原创-言情-近代现代-爱情</td>\n",
       "      <td>连载</td>\n",
       "      <td>415329</td>\n",
       "      <td>8,912,468</td>\n",
       "      <td>2024-07-08 17:37:37</td>\n",
       "    </tr>\n",
       "    <tr>\n",
       "      <th>4</th>\n",
       "      <td>5</td>\n",
       "      <td>mudash</td>\n",
       "      <td>我靠献祭自己让所有人达到HE结局</td>\n",
       "      <td>原创-言情-幻想未来-科幻</td>\n",
       "      <td>连载</td>\n",
       "      <td>69045</td>\n",
       "      <td>6,470,167</td>\n",
       "      <td>2024-07-11 03:25:26</td>\n",
       "    </tr>\n",
       "  </tbody>\n",
       "</table>\n",
       "</div>"
      ],
      "text/plain": [
       "   ID   Title       Description            Genre Status  WordCount  \\\n",
       "0   1    萤火郁金       帮废柴纲追求白月光之后  衍生-言情-近代现代-东方衍生     连载      81251   \n",
       "1   2      梨醉         贵族学院F4的发小    原创-言情-近代现代-爱情     连载      87407   \n",
       "2   3     热托蒂       和hagi一起成为猫猫  衍生-言情-近代现代-东方衍生     连载      56702   \n",
       "3   4      岑为           蝴蝶飞过一叶舟    原创-言情-近代现代-爱情     连载     415329   \n",
       "4   5  mudash  我靠献祭自己让所有人达到HE结局    原创-言情-幻想未来-科幻     连载      69045   \n",
       "\n",
       "   Popularity          PublishTime  \n",
       "0  15,706,888  2024-07-18 15:18:27  \n",
       "1  12,057,730  2024-07-15 00:39:12  \n",
       "2   9,037,107  2024-07-09 15:43:13  \n",
       "3   8,912,468  2024-07-08 17:37:37  \n",
       "4   6,470,167  2024-07-11 03:25:26  "
      ]
     },
     "execution_count": 7,
     "metadata": {},
     "output_type": "execute_result"
    }
   ],
   "source": [
    "import pandas as pd\n",
    "import matplotlib.pyplot as plt\n",
    "from datetime import datetime\n",
    "\n",
    "# 读取数据\n",
    "# 假设文件名为 'novels.txt'\n",
    "file_path = './榜单排行.txt'\n",
    "\n",
    "# 定义列名称\n",
    "column_names = ['ID', 'Title', 'Description', 'Genre', 'Status', 'WordCount', 'Popularity', 'PublishTime']\n",
    "\n",
    "# 使用 pandas 读取文本文件，注意指定分隔符为逗号\n",
    "df = pd.read_csv(file_path, names=column_names, delimiter=',')\n",
    "df.head()"
   ]
  },
  {
   "cell_type": "code",
   "execution_count": 8,
   "metadata": {},
   "outputs": [
    {
     "data": {
      "image/png": "[encoded data removed]",
      "text/plain": [
       "<Figure size 864x432 with 1 Axes>"
      ]
     },
     "metadata": {
      "needs_background": "light"
     },
     "output_type": "display_data"
    }
   ],
   "source": [
    "# 将 PublishTime 列转换为 datetime 类型\n",
    "df['PublishTime'] = pd.to_datetime(df['PublishTime'])\n",
    "\n",
    "# 提取小时部分\n",
    "df['Hour'] = df['PublishTime'].dt.hour\n",
    "\n",
    "# 按小时统计小说数量\n",
    "hourly_counts = df['Hour'].value_counts().sort_index()\n",
    "\n",
    "# 绘制图表\n",
    "plt.figure(figsize=(12, 6))\n",
    "hourly_counts.plot(kind='bar')\n",
    "\n",
    "# 设置图表标题和标签\n",
    "plt.title('晋江榜单每小时发表文章数量')\n",
    "plt.xlabel('时间')\n",
    "plt.ylabel('数量')\n",
    "\n",
    "# 显示图表\n",
    "plt.xticks(rotation=0)  # 保持 x 轴刻度水平\n",
    "plt.tight_layout()      # 自动调整布局\n",
    "plt.show()"
   ]
  },
  {
   "cell_type": "code",
   "execution_count": 9,
   "metadata": {},
   "outputs": [
    {
     "data": {
      "text/plain": [
       "0     11\n",
       "1      4\n",
       "2      3\n",
       "3      2\n",
       "4      2\n",
       "6      1\n",
       "7      2\n",
       "8      2\n",
       "9      9\n",
       "10    12\n",
       "11     6\n",
       "12     6\n",
       "13     9\n",
       "14     7\n",
       "15    24\n",
       "16    15\n",
       "17    18\n",
       "18    14\n",
       "19    15\n",
       "20     9\n",
       "21     8\n",
       "22    11\n",
       "23    10\n",
       "Name: Hour, dtype: int64"
      ]
     },
     "execution_count": 9,
     "metadata": {},
     "output_type": "execute_result"
    }
   ],
   "source": [
    "hourly_counts"
   ]
  }
 ],
 "metadata": {
  "kernelspec": {
   "display_name": "Python 3.9.7 ('base')",
   "language": "python",
   "name": "python3"
  },
  "language_info": {
   "codemirror_mode": {
    "name": "ipython",
    "version": 3
   },
   "file_extension": ".py",
   "mimetype": "text/x-python",
   "name": "python",
   "nbconvert_exporter": "python",
   "pygments_lexer": "ipython3",
   "version": "3.9.7"
  },
  "orig_nbformat": 4,
  "vscode": {
   "interpreter": {
    "hash": "88279d2366fe020547cde40dd65aa0e3aa662a6ec1f3ca12d88834876c85e1a6"
   }
  }
 },
 "nbformat": 4,
 "nbformat_minor": 2
}
