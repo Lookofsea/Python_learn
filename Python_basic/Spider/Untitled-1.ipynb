{
 "cells": [
  {
   "cell_type": "code",
   "execution_count": 1,
   "metadata": {},
   "outputs": [
    {
     "data": {
      "text/html": [
       "<div>\n",
       "<style scoped>\n",
       "    .dataframe tbody tr th:only-of-type {\n",
       "        vertical-align: middle;\n",
       "    }\n",
       "\n",
       "    .dataframe tbody tr th {\n",
       "        vertical-align: top;\n",
       "    }\n",
       "\n",
       "    .dataframe thead th {\n",
       "        text-align: right;\n",
       "    }\n",
       "</style>\n",
       "<table border=\"1\" class=\"dataframe\">\n",
       "  <thead>\n",
       "    <tr style=\"text-align: right;\">\n",
       "      <th></th>\n",
       "      <th>author</th>\n",
       "      <th>name</th>\n",
       "      <th>type</th>\n",
       "      <th>status</th>\n",
       "      <th>word</th>\n",
       "      <th>points</th>\n",
       "      <th>publish_time</th>\n",
       "    </tr>\n",
       "  </thead>\n",
       "  <tbody>\n",
       "    <tr>\n",
       "      <th>0</th>\n",
       "      <td>猫的巷</td>\n",
       "      <td>寻风</td>\n",
       "      <td>原创-言情-近代现代-爱情</td>\n",
       "      <td>完结</td>\n",
       "      <td>31655</td>\n",
       "      <td>0</td>\n",
       "      <td>2024-08-06 11:17:47</td>\n",
       "    </tr>\n",
       "    <tr>\n",
       "      <th>1</th>\n",
       "      <td>BE美学大弟子</td>\n",
       "      <td>张起灵BG同人（长白山下）</td>\n",
       "      <td>原创-言情-近代现代-爱情</td>\n",
       "      <td>完结</td>\n",
       "      <td>69617</td>\n",
       "      <td>0</td>\n",
       "      <td>2024-08-06 10:49:11</td>\n",
       "    </tr>\n",
       "    <tr>\n",
       "      <th>2</th>\n",
       "      <td>二十天明</td>\n",
       "      <td>哦原来他是替身啊</td>\n",
       "      <td>原创-言情-架空历史-爱情</td>\n",
       "      <td>完结</td>\n",
       "      <td>18703</td>\n",
       "      <td>0</td>\n",
       "      <td>2024-08-06 08:41:03</td>\n",
       "    </tr>\n",
       "    <tr>\n",
       "      <th>3</th>\n",
       "      <td>卿卿为佳</td>\n",
       "      <td>荆棘之花</td>\n",
       "      <td>原创-言情-近代现代-爱情</td>\n",
       "      <td>完结</td>\n",
       "      <td>11882</td>\n",
       "      <td>0</td>\n",
       "      <td>2024-08-06 03:20:15</td>\n",
       "    </tr>\n",
       "    <tr>\n",
       "      <th>4</th>\n",
       "      <td>夜莺的白玫瑰</td>\n",
       "      <td>救赎</td>\n",
       "      <td>原创-言情-近代现代-悬疑</td>\n",
       "      <td>完结</td>\n",
       "      <td>7545</td>\n",
       "      <td>0</td>\n",
       "      <td>2024-08-06 02:08:40</td>\n",
       "    </tr>\n",
       "  </tbody>\n",
       "</table>\n",
       "</div>"
      ],
      "text/plain": [
       "    author           name           type status   word  points  \\\n",
       "0      猫的巷             寻风  原创-言情-近代现代-爱情     完结  31655       0   \n",
       "1  BE美学大弟子  张起灵BG同人（长白山下）  原创-言情-近代现代-爱情     完结  69617       0   \n",
       "2     二十天明       哦原来他是替身啊  原创-言情-架空历史-爱情     完结  18703       0   \n",
       "3     卿卿为佳           荆棘之花  原创-言情-近代现代-爱情     完结  11882       0   \n",
       "4   夜莺的白玫瑰             救赎  原创-言情-近代现代-悬疑     完结   7545       0   \n",
       "\n",
       "          publish_time  \n",
       "0  2024-08-06 11:17:47  \n",
       "1  2024-08-06 10:49:11  \n",
       "2  2024-08-06 08:41:03  \n",
       "3  2024-08-06 03:20:15  \n",
       "4  2024-08-06 02:08:40  "
      ]
     },
     "execution_count": 1,
     "metadata": {},
     "output_type": "execute_result"
    }
   ],
   "source": [
    "import pandas as pd\n",
    "import matplotlib.pyplot as plt\n",
    "import numpy as np\n",
    "\n",
    "# 读取数据\n",
    "df = pd.read_csv(\"言情.txt\", header=None, \n",
    "                 names=[\"author\", \"name\", \"type\", \"status\", \"word\", \"points\", \"publish_time\"])  \n",
    "df.head()"
   ]
  },
  {
   "cell_type": "code",
   "execution_count": 4,
   "metadata": {},
   "outputs": [
    {
     "name": "stdout",
     "output_type": "stream",
     "text": [
      "文章数量： 799\n"
     ]
    },
    {
     "data": {
      "text/html": [
       "<div>\n",
       "<style scoped>\n",
       "    .dataframe tbody tr th:only-of-type {\n",
       "        vertical-align: middle;\n",
       "    }\n",
       "\n",
       "    .dataframe tbody tr th {\n",
       "        vertical-align: top;\n",
       "    }\n",
       "\n",
       "    .dataframe thead th {\n",
       "        text-align: right;\n",
       "    }\n",
       "</style>\n",
       "<table border=\"1\" class=\"dataframe\">\n",
       "  <thead>\n",
       "    <tr style=\"text-align: right;\">\n",
       "      <th></th>\n",
       "      <th>author</th>\n",
       "      <th>name</th>\n",
       "      <th>type</th>\n",
       "      <th>status</th>\n",
       "      <th>word</th>\n",
       "      <th>points</th>\n",
       "      <th>publish_time</th>\n",
       "    </tr>\n",
       "  </thead>\n",
       "  <tbody>\n",
       "    <tr>\n",
       "      <th>0</th>\n",
       "      <td>猫的巷</td>\n",
       "      <td>寻风</td>\n",
       "      <td>原创-言情-近代现代-爱情</td>\n",
       "      <td>完结</td>\n",
       "      <td>3.1655</td>\n",
       "      <td>0.0</td>\n",
       "      <td>2024-08-06 11:17:47</td>\n",
       "    </tr>\n",
       "    <tr>\n",
       "      <th>1</th>\n",
       "      <td>BE美学大弟子</td>\n",
       "      <td>张起灵BG同人（长白山下）</td>\n",
       "      <td>原创-言情-近代现代-爱情</td>\n",
       "      <td>完结</td>\n",
       "      <td>6.9617</td>\n",
       "      <td>0.0</td>\n",
       "      <td>2024-08-06 10:49:11</td>\n",
       "    </tr>\n",
       "    <tr>\n",
       "      <th>2</th>\n",
       "      <td>二十天明</td>\n",
       "      <td>哦原来他是替身啊</td>\n",
       "      <td>原创-言情-架空历史-爱情</td>\n",
       "      <td>完结</td>\n",
       "      <td>1.8703</td>\n",
       "      <td>0.0</td>\n",
       "      <td>2024-08-06 08:41:03</td>\n",
       "    </tr>\n",
       "    <tr>\n",
       "      <th>3</th>\n",
       "      <td>卿卿为佳</td>\n",
       "      <td>荆棘之花</td>\n",
       "      <td>原创-言情-近代现代-爱情</td>\n",
       "      <td>完结</td>\n",
       "      <td>1.1882</td>\n",
       "      <td>0.0</td>\n",
       "      <td>2024-08-06 03:20:15</td>\n",
       "    </tr>\n",
       "    <tr>\n",
       "      <th>4</th>\n",
       "      <td>夜莺的白玫瑰</td>\n",
       "      <td>救赎</td>\n",
       "      <td>原创-言情-近代现代-悬疑</td>\n",
       "      <td>完结</td>\n",
       "      <td>0.7545</td>\n",
       "      <td>0.0</td>\n",
       "      <td>2024-08-06 02:08:40</td>\n",
       "    </tr>\n",
       "  </tbody>\n",
       "</table>\n",
       "</div>"
      ],
      "text/plain": [
       "    author           name           type status    word  points  \\\n",
       "0      猫的巷             寻风  原创-言情-近代现代-爱情     完结  3.1655     0.0   \n",
       "1  BE美学大弟子  张起灵BG同人（长白山下）  原创-言情-近代现代-爱情     完结  6.9617     0.0   \n",
       "2     二十天明       哦原来他是替身啊  原创-言情-架空历史-爱情     完结  1.8703     0.0   \n",
       "3     卿卿为佳           荆棘之花  原创-言情-近代现代-爱情     完结  1.1882     0.0   \n",
       "4   夜莺的白玫瑰             救赎  原创-言情-近代现代-悬疑     完结  0.7545     0.0   \n",
       "\n",
       "         publish_time  \n",
       "0 2024-08-06 11:17:47  \n",
       "1 2024-08-06 10:49:11  \n",
       "2 2024-08-06 08:41:03  \n",
       "3 2024-08-06 03:20:15  \n",
       "4 2024-08-06 02:08:40  "
      ]
     },
     "execution_count": 4,
     "metadata": {},
     "output_type": "execute_result"
    }
   ],
   "source": [
    "# 去重\n",
    "df = df.drop_duplicates(subset=[\"author\", \"name\"])\n",
    "print(\"文章数量：\", df.shape[0])\n",
    "\n",
    "# 时间类型转换\n",
    "df[\"publish_time\"] = pd.to_datetime(df[\"publish_time\"])\n",
    "\n",
    "# 字数转换为万字\n",
    "df[\"word\"] *= 10000\n",
    "\n",
    "# 积分转换为万\n",
    "df[\"points\"] *= 10000\n",
    "\n",
    "df.head()"
   ]
  },
  {
   "cell_type": "code",
   "execution_count": 5,
   "metadata": {},
   "outputs": [
    {
     "data": {
      "text/plain": [
       "(0.0534, 31.7303)"
      ]
     },
     "execution_count": 5,
     "metadata": {},
     "output_type": "execute_result"
    }
   ],
   "source": [
    "df[\"word\"].min(), df[\"word\"].max()\n"
   ]
  }
 ],
 "metadata": {
  "kernelspec": {
   "display_name": "Python 3.9.7 ('base')",
   "language": "python",
   "name": "python3"
  },
  "language_info": {
   "codemirror_mode": {
    "name": "ipython",
    "version": 3
   },
   "file_extension": ".py",
   "mimetype": "text/x-python",
   "name": "python",
   "nbconvert_exporter": "python",
   "pygments_lexer": "ipython3",
   "version": "3.9.7"
  },
  "orig_nbformat": 4,
  "vscode": {
   "interpreter": {
    "hash": "88279d2366fe020547cde40dd65aa0e3aa662a6ec1f3ca12d88834876c85e1a6"
   }
  }
 },
 "nbformat": 4,
 "nbformat_minor": 2
}
